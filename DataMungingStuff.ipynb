{
 "cells": [
  {
   "cell_type": "code",
   "execution_count": 5,
   "metadata": {},
   "outputs": [],
   "source": [
    "# installing dependencies\n",
    "# All Rubric Requirements were met\n",
    "# Import IPython module\n",
    "import IPython\n",
    "\n",
    "# Importing pandas library for data manipulation and analysis\n",
    "import pandas as pd\n",
    "\n",
    "# Importing seaborn library for statistical data visualization\n",
    "import seaborn as sns\n",
    "\n",
    "# Importing numpy library for numerical operations\n",
    "import numpy as np\n",
    "#from sklearn.linear_model import LinearRegression\n",
    "\n",
    "# Importing matplotlib library for plotting\n",
    "import matplotlib.pyplot as plt\n",
    "\n",
    "# Use the inline backend to display plots in the notebook\n",
    "%matplotlib inline\n",
    "\n",
    "# Importing warnings module to surpress warnings\n",
    "import warnings\n",
    "\n",
    "# Surpress warnings\n",
    "warnings.filterwarnings(\"ignore\")"
   ]
  },
  {
   "cell_type": "code",
   "execution_count": 6,
   "metadata": {},
   "outputs": [],
   "source": [
    "# importing dataset\n",
    "arrest_data = pd.read_csv(\"C:/Users/Hp/Downloads/Arrest_Data_from_2010_to_Present.csv\")"
   ]
  },
  {
   "cell_type": "code",
   "execution_count": 7,
   "metadata": {},
   "outputs": [],
   "source": [
    "arrest_data[\"Arrest Date\"] = pd.to_datetime(arrest_data[\"Arrest Date\"], format=\"%m/%d/%Y\")"
   ]
  },
  {
   "cell_type": "code",
   "execution_count": 8,
   "metadata": {},
   "outputs": [],
   "source": [
    "# Extract the bookings made in 2018\n",
    "# Rubric 1 \n",
    "arrests_2018 = arrest_data[arrest_data[\"Arrest Date\"].dt.year == 2018]"
   ]
  },
  {
   "cell_type": "code",
   "execution_count": 9,
   "metadata": {},
   "outputs": [
    {
     "name": "stdout",
     "output_type": "stream",
     "text": [
      "30054\n"
     ]
    }
   ],
   "source": [
    "# Question 1: How many bookings of arrestees were made in 2018?\n",
    "print(len(arrests_2018))"
   ]
  },
  {
   "cell_type": "code",
   "execution_count": 10,
   "metadata": {},
   "outputs": [
    {
     "name": "stdout",
     "output_type": "stream",
     "text": [
      "Area Name\n",
      "77th Street     560\n",
      "Central        4492\n",
      "Devonshire      988\n",
      "Foothill        402\n",
      "Harbor         1207\n",
      "Hollenbeck      561\n",
      "Hollywood      4176\n",
      "Mission        1133\n",
      "N Hollywood    1485\n",
      "Newton          989\n",
      "Northeast      1140\n",
      "Olympic         814\n",
      "Pacific        2941\n",
      "Rampart        3655\n",
      "Southeast       222\n",
      "Southwest      1065\n",
      "Topanga         804\n",
      "Van Nuys       1561\n",
      "West LA        1181\n",
      "West Valley     440\n",
      "Wilshire        238\n",
      "Name: Report ID, dtype: int64\n",
      "Area with the most arrests: Central\n"
     ]
    }
   ],
   "source": [
    "# Question 2: How many bookings of arrestees were made in each area and which area has the most arrests in 2018?\n",
    "# Rubric 2\n",
    "arrests_by_area = arrests_2018.groupby('Area Name')['Report ID'].count()\n",
    "print(arrests_by_area)\n",
    "print(\"Area with the most arrests:\", arrests_by_area.idxmax())"
   ]
  },
  {
   "cell_type": "code",
   "execution_count": 11,
   "metadata": {},
   "outputs": [
    {
     "name": "stdout",
     "output_type": "stream",
     "text": [
      "Charge Group Description\n",
      "Burglary                   31.764045\n",
      "Receive Stolen Property    33.111111\n",
      "Robbery                    28.462185\n",
      "Vehicle Theft              31.222222\n",
      "Name: Age, dtype: float64\n"
     ]
    }
   ],
   "source": [
    "# Question 3: What is the average age of arrestees per each charge group in 2018, excluding \"Pre-Delinquency\" and \"Non-Criminal Detention\" charge groups?\n",
    "# Rubric 3\n",
    "valid_charge_groups = ['Vehicle Theft', 'Robbery', 'Burglary', 'Receive Stolen Property']\n",
    "valid_arrests = arrests_2018[arrests_2018['Charge Group Description'].isin(valid_charge_groups) & \n",
    "                             (arrests_2018['Charge Group Description'] != 'Pre-Delinquency') &\n",
    "                             (arrests_2018['Charge Group Description'] != 'Non-Criminal Detention')]\n",
    "avg_age_by_charge_group = valid_arrests.groupby('Charge Group Description')['Age'].mean()\n",
    "print(avg_age_by_charge_group)\n"
   ]
  },
  {
   "cell_type": "code",
   "execution_count": 12,
   "metadata": {},
   "outputs": [
    {
     "name": "stdout",
     "output_type": "stream",
     "text": [
      "Charge Group Description\n",
      "Burglary                   55.00\n",
      "Receive Stolen Property    49.20\n",
      "Robbery                    57.20\n",
      "Vehicle Theft              46.35\n",
      "Name: Age, dtype: float64\n"
     ]
    }
   ],
   "source": [
    "# Question 4: What is the 95% quantile of the age of the arrestee in 2018 for the selected charge groups?\n",
    "# Rubric 4\n",
    "age_quantiles = valid_arrests.groupby('Charge Group Description')['Age'].quantile(q=0.95)\n",
    "print(age_quantiles)"
   ]
  },
  {
   "cell_type": "code",
   "execution_count": 13,
   "metadata": {},
   "outputs": [
    {
     "name": "stdout",
     "output_type": "stream",
     "text": [
      "Predicted number of crime arrests in 2019: 10048\n"
     ]
    }
   ],
   "source": [
    "# Question 5: Using a linear regression for the data from 2010 and 2018 (inclusive), predict number of crime arrests in 2019\n",
    "#from sklearn.linear_model import LinearRegression\n",
    "# Rubric 5\n",
    "\n",
    "crime_data = arrest_data.loc[pd.to_datetime(arrest_data['Arrest Date'], format='%m/%d/%Y').dt.year.between(2010, 2018)]\n",
    "crime_data = crime_data.groupby(pd.to_datetime(crime_data['Arrest Date'], format='%m/%d/%Y').dt.year)['Report ID'].count().reset_index()\n",
    "crime_data.rename(columns={'Arrest Date': 'Year', 'Report ID': 'Arrest Count'}, inplace=True)\n",
    "X = np.array(crime_data['Year']).reshape((-1, 1))\n",
    "y = np.array(crime_data['Arrest Count'])\n",
    "model = LinearRegression().fit(X, y)\n",
    "prediction = model.predict([[2019]])\n",
    "print(\"Predicted number of crime arrests in 2019:\", round(prediction[0]))"
   ]
  },
  {
   "cell_type": "code",
   "execution_count": 16,
   "metadata": {},
   "outputs": [
    {
     "name": "stdout",
     "output_type": "stream",
     "text": [
      "Number of arrest incidents occurred within 2 km from the Bradbury Building in 2018:  4772\n"
     ]
    }
   ],
   "source": [
    "# Question 6: How many arrest incidents occurred within 2 km from the Bradbury Building in 2018? Use (34.050536, -118.247861) for the coordinates of the Bradbury Building\n",
    "# Rubric 6\n",
    "from geopy.distance import geodesic\n",
    "bradbury_location = (34.050536, -118.247861)\n",
    "valid_locations = (arrests_2018[['Location']].dropna()).applymap(lambda x: tuple(map(float, x.strip('()').split(','))))\n",
    "valid_locations = valid_locations[valid_locations['Location'].apply(lambda x: x != (0.0, 0.0))]\n",
    "arrests_near_bradbury = valid_locations[valid_locations['Location'].apply(lambda x: geodesic(x, bradbury_location).km <= 2)]\n",
    "print(\"Number of arrest incidents occurred within 2 km from the Bradbury Building in 2018: \", len(arrests_near_bradbury))"
   ]
  },
  {
   "cell_type": "code",
   "execution_count": null,
   "metadata": {},
   "outputs": [],
   "source": []
  }
 ],
 "metadata": {
  "kernelspec": {
   "display_name": "Python 3",
   "language": "python",
   "name": "python3"
  },
  "language_info": {
   "codemirror_mode": {
    "name": "ipython",
    "version": 3
   },
   "file_extension": ".py",
   "mimetype": "text/x-python",
   "name": "python",
   "nbconvert_exporter": "python",
   "pygments_lexer": "ipython3",
   "version": "3.8.5"
  }
 },
 "nbformat": 4,
 "nbformat_minor": 4
}
